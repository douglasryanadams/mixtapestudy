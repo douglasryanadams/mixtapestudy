{
 "cells": [
  {
   "cell_type": "markdown",
   "id": "09f0c5c4-a8e1-4984-8ce3-dc0e58d3bf6c",
   "metadata": {},
   "source": [
    "This file explores the integration between listenbrainz, musicbrainz, and spotify.\n",
    "\n",
    "It's separate from the application logic because the approach requires exploration to optimize and understand.\n",
    "There's a lot more edge cases integratiing multiple edge cases than I had to contend with in using only Spotify.\n",
    "\n",
    "Below, I sort out those edge cases, explore likelihood of error cases, so I can encode these states in tests."
   ]
  },
  {
   "cell_type": "markdown",
   "id": "23645081-4693-4894-a96c-ca2bca57f6da",
   "metadata": {},
   "source": [
    "Import Libs"
   ]
  },
  {
   "cell_type": "code",
   "execution_count": null,
   "id": "c947cded-8cca-41f6-a68d-cbeb7ef170c6",
   "metadata": {},
   "outputs": [],
   "source": [
    "import os\n",
    "import time\n",
    "import json\n",
    "import requests\n",
    "from requests import HTTPError\n",
    "from requests.auth import HTTPBasicAuth"
   ]
  },
  {
   "cell_type": "markdown",
   "id": "a3df9768-d2a2-41c8-b149-8314d36f6ae8",
   "metadata": {},
   "source": [
    "Set up Script Variables"
   ]
  },
  {
   "cell_type": "code",
   "execution_count": null,
   "id": "241ba756-37d6-42dd-8878-f88105e87b55",
   "metadata": {},
   "outputs": [],
   "source": [
    "artists = [\"Noah Gundersen\", \"Julien Baker\", \"Phoebe Bridgers\"]"
   ]
  },
  {
   "cell_type": "markdown",
   "id": "ae975907-f96b-43de-8fde-ddb48785950a",
   "metadata": {},
   "source": [
    "Load Environment Variables"
   ]
  },
  {
   "cell_type": "code",
   "execution_count": null,
   "id": "a6243796-37d5-41f8-852b-d933d205d9fc",
   "metadata": {},
   "outputs": [],
   "source": [
    "listenbrainz_api_key = os.getenv(\"LISTENBRAINZ_API_KEY\")\n",
    "spotify_client_secret = os.getenv(\"SPOTIFY_CLIENT_SECRET\")\n",
    "spotify_client_id = os.getenv(\"SPOTIFY_CLIENT_ID\")\n",
    "# listenbrainz_api_key, spotify_client_secret, spotify_client_id"
   ]
  },
  {
   "cell_type": "markdown",
   "id": "81ad185c-e904-42e9-b25a-cda6634a3ba8",
   "metadata": {},
   "source": [
    "Provide useful context around request errors"
   ]
  },
  {
   "cell_type": "code",
   "execution_count": null,
   "id": "7d72d4bf-69af-453d-8da2-09437779c105",
   "metadata": {},
   "outputs": [],
   "source": [
    "def handle_error(response):\n",
    "    try:\n",
    "        response.raise_for_status()\n",
    "    except HTTPError as error:\n",
    "        error.add_note(f\"Request: {error.request}\")\n",
    "        error.add_note(f\"Request headers: {error.request.headers}\")\n",
    "        error.add_note(f\"Request body: {error.request.body}\")\n",
    "        error.add_note(f\"Response: {error.response}\")\n",
    "        error.add_note(f\"Response headers: {error.response.headers}\")\n",
    "        error.add_note(f\"Response body: {error.response.text}\")\n",
    "        raise"
   ]
  },
  {
   "cell_type": "markdown",
   "id": "da553082-833c-4e0c-beeb-6da2e81608b7",
   "metadata": {},
   "source": [
    "Get Spotify Auth Token"
   ]
  },
  {
   "cell_type": "code",
   "execution_count": null,
   "id": "3c37b5d1-674c-4aa0-89c3-cf80e54ccdb2",
   "metadata": {},
   "outputs": [],
   "source": [
    "spotify_auth = requests.post(\n",
    "    url=\"https://accounts.spotify.com/api/token\",\n",
    "    auth=HTTPBasicAuth(spotify_client_id, spotify_client_secret),\n",
    "    data={\"grant_type\": \"client_credentials\"}\n",
    ")\n",
    "handle_error(spotify_auth)\n",
    "\n",
    "auth_json = spotify_auth.json()\n",
    "spotify_token = auth_json['access_token']\n",
    "# spotify_token"
   ]
  },
  {
   "cell_type": "markdown",
   "id": "d07af67c-e5e7-4698-8fb7-c9321f42808a",
   "metadata": {},
   "source": [
    "Get playlist based on artists"
   ]
  },
  {
   "cell_type": "code",
   "execution_count": null,
   "id": "19723f75-c6b0-4583-9a7b-816b75236002",
   "metadata": {},
   "outputs": [],
   "source": [
    "lb_radio = requests.get(\n",
    "    url=\"https://api.listenbrainz.org/1/explore/lb-radio\",\n",
    "    params={\n",
    "        \"mode\": \"easy\",\n",
    "        \"prompt\": \" \".join([f'artist:({artist})' for artist in artists])\n",
    "    },\n",
    "    headers={\"Authorization\": f\"Bearer {listenbrainz_api_key}\"}\n",
    ")\n",
    "handle_error(lb_radio)\n",
    "\n",
    "tracks = lb_radio.json()[\"payload\"][\"jspf\"][\"playlist\"][\"track\"]\n",
    "len(tracks), tracks[:2]"
   ]
  },
  {
   "cell_type": "code",
   "execution_count": null,
   "id": "320fab74-8710-41ed-b7ee-01a19a1ea17d",
   "metadata": {
    "jupyter": {
     "source_hidden": true
    }
   },
   "outputs": [],
   "source": [
    "identifiers = []\n",
    "for track in tracks:\n",
    "    if len(track['identifier']) > 1:\n",
    "        raise Exception(f'{track[\"title\"]} by {track[\"creator\"]} has multiple identifiers: {\", \".join(track[\"identifiers\"])}')\n",
    "    identifiers += track[\"identifier\"]\n",
    "mbids = [x.split(\"/\")[-1] for x in identifiers]\n",
    "identifiers[:2], mbids[:2]"
   ]
  },
  {
   "cell_type": "code",
   "execution_count": null,
   "id": "c0bd9ccf-d7cb-4132-a107-57295b7d3f0c",
   "metadata": {
    "jupyter": {
     "source_hidden": true
    }
   },
   "outputs": [],
   "source": [
    "all_relations = []\n",
    "all_isrcs = []\n",
    "spotify_tracks = []\n",
    "rate_limit_remaining = 900  # Arbitrary > 0 number\n",
    "rate_limit_max = 1000 # Slightly larger arbitrary > 0 number\n",
    "for mbid in mbids:\n",
    "    # time.sleep((rate_limit_max - rate_limit_remaining) / 1000)\n",
    "    \n",
    "    # https://musicbrainz.org/doc/MusicBrainz_API#Lookups\n",
    "    mb_recording = requests.get(\n",
    "        url=f\"https://musicbrainz.org/ws/2/recording/{mbid}\",\n",
    "        params={\"fmt\": \"json\", \"inc\": \"isrcs url-rels artists\"},\n",
    "        headers={\"User-Agent\": \"mixtapestudy.com/0.0 ( douglas@builtonbits.com )\"}\n",
    "    )\n",
    "    handle_error(mb_recording)\n",
    "    \n",
    "    recording_json = mb_recording.json()\n",
    "    rate_limit_remaining = int(mb_recording.headers[\"X-RateLimit-Remaining\"])\n",
    "    rate_limit_max = int(mb_recording.headers[\"X-RateLimit-Limit\"])\n",
    "    print(f\"{rate_limit_remaining}/{rate_limit_max}\")\n",
    "    \n",
    "    relations = recording_json[\"relations\"]\n",
    "    isrcs = recording_json[\"isrcs\"]\n",
    "    artist_credit = recording_json[\"artist-credit\"]\n",
    "\n",
    "    if isrcs:\n",
    "        query_string = f\"isrc:{isrcs[0]}\"\n",
    "    elif relations:\n",
    "        print(f'Finally found a relation! {[relation[\"url\"][\"resource\"] for relation in relations]}')\n",
    "              \n",
    "    else:\n",
    "        query_string = f'track:{recording_json[\"title\"]}'\n",
    "        if artist_credit:\n",
    "            query_string += \" \" + \" \".join([f'artist:{artist[\"artist\"][\"name\"]}' for artist in artist_credit])\n",
    "        \n",
    "    print(f\"query_string: {query_string}\")\n",
    "    \n",
    "    # https://developer.spotify.com/documentation/web-api/reference/search\n",
    "    spotify_search = requests.get(\n",
    "        url=\"https://api.spotify.com/v1/search\",\n",
    "        params={\"type\": \"track\", \"q\": query_string},\n",
    "        headers={\"Authorization\": f\"Bearer {spotify_token}\"}\n",
    "    )\n",
    "    handle_error(spotify_search)\n",
    "\n",
    "    spotify_json = spotify_search.json()\n",
    "    # print([t[\"id\"] for t in spotify_json[\"tracks\"][\"items\"]])\n",
    "    if spotify_json[\"tracks\"] and spotify_json[\"tracks\"][\"items\"]:\n",
    "        spotify_tracks.append(spotify_json[\"tracks\"][\"items\"][0])\n",
    "    \n",
    "    all_relations += relations\n",
    "    all_isrcs += isrcs\n",
    "    \n",
    "    # break\n",
    "\n",
    "(len(all_relations), len(all_isrcs), len(spotify_tracks)), all_relations[:2], all_isrcs[:2]"
   ]
  },
  {
   "cell_type": "markdown",
   "id": "cabe662e-4247-47f0-a33d-57defa7c1c72",
   "metadata": {},
   "source": [
    "Better song finding algorithm that avoids MusicBrainz rate limit"
   ]
  },
  {
   "cell_type": "code",
   "execution_count": null,
   "id": "b7c22efb-a0c2-46e0-a29e-9c7016748b0d",
   "metadata": {},
   "outputs": [],
   "source": [
    "spotify_tracks = []\n",
    "\n",
    "for track in tracks:\n",
    "    \n",
    "    query_string = f'track:{track[\"title\"]} artist:{track[\"creator\"]}'\n",
    "        \n",
    "    # https://developer.spotify.com/documentation/web-api/reference/search\n",
    "    spotify_search = requests.get(\n",
    "        url=\"https://api.spotify.com/v1/search\",\n",
    "        params={\"type\": \"track\", \"q\": query_string},\n",
    "        headers={\"Authorization\": f\"Bearer {spotify_token}\"}\n",
    "    )\n",
    "    handle_error(spotify_search)\n",
    "\n",
    "    spotify_json = spotify_search.json()\n",
    "    # print([t[\"id\"] for t in spotify_json[\"tracks\"][\"items\"]])\n",
    "    if spotify_json[\"tracks\"] and spotify_json[\"tracks\"][\"items\"]:\n",
    "        print(\"[X]\", end=' ')\n",
    "        spotify_tracks.append(spotify_json[\"tracks\"][\"items\"][0])\n",
    "        \n",
    "    else:\n",
    "        query_string = f'{track[\"title\"]} {track[\"creator\"]}'\n",
    "        spotify_search = requests.get(\n",
    "            url=\"https://api.spotify.com/v1/search\",\n",
    "            params={\"type\": \"track\", \"q\": query_string},\n",
    "            headers={\"Authorization\": f\"Bearer {spotify_token}\"}\n",
    "        )\n",
    "        handle_error(spotify_search)\n",
    "        \n",
    "        spotify_json = spotify_search.json()\n",
    "        if spotify_json[\"tracks\"] and spotify_json[\"tracks\"][\"items\"]:\n",
    "            print(\"[/]\", end=' ')\n",
    "            spotify_tracks.append(spotify_json[\"tracks\"][\"items\"][0])\n",
    "        else:\n",
    "            print(\"[ ]\", end=' ')\n",
    "        \n",
    "    print(f\"query_string: {query_string}\", end=\" | \")\n",
    "    track = spotify_json[\"tracks\"][\"items\"][0]\n",
    "    print(f'{track[\"name\"]} - {track[\"artists\"][0][\"name\"]}')\n",
    "\n",
    "    # break\n",
    "\n",
    "print(f'{len(spotify_tracks)}/{len(tracks)}')\n",
    "[f'{spt[\"name\"]}: {\",\".join([artist[\"name\"] for artist in spt[\"artists\"]])}' for spt in spotify_tracks[:2]]"
   ]
  },
  {
   "cell_type": "code",
   "execution_count": null,
   "id": "cb667ad5-3cc9-4bf6-a21c-46bac38d2cf7",
   "metadata": {},
   "outputs": [],
   "source": [
    "[\n",
    "    (st[\"id\"], st[\"uri\"], st[\"name\"], \n",
    "    [a[\"name\"] for a in st[\"artists\"]])\n",
    "    for st in spotify_tracks\n",
    "]"
   ]
  },
  {
   "cell_type": "code",
   "execution_count": null,
   "id": "8f71082e-5dc9-44fd-8d16-97e6a15c1c20",
   "metadata": {},
   "outputs": [],
   "source": []
  }
 ],
 "metadata": {
  "kernelspec": {
   "display_name": "Python 3 (ipykernel)",
   "language": "python",
   "name": "python3"
  },
  "language_info": {
   "codemirror_mode": {
    "name": "ipython",
    "version": 3
   },
   "file_extension": ".py",
   "mimetype": "text/x-python",
   "name": "python",
   "nbconvert_exporter": "python",
   "pygments_lexer": "ipython3",
   "version": "3.11.9"
  }
 },
 "nbformat": 4,
 "nbformat_minor": 5
}
