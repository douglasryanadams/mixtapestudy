{
 "cells": [
  {
   "cell_type": "markdown",
   "id": "09f0c5c4-a8e1-4984-8ce3-dc0e58d3bf6c",
   "metadata": {},
   "source": [
    "This file explores the integration between listenbrainz, musicbrainz, and spotify.\n",
    "\n",
    "It's separate from the application logic because the approach requires exploration to optimize and understand.\n",
    "There's a lot more edge cases integratiing multiple edge cases than I had to contend with in using only Spotify.\n",
    "\n",
    "Below, I sort out those edge cases, explore likelihood of error cases, so I can encode these states in tests."
   ]
  },
  {
   "cell_type": "markdown",
   "id": "23645081-4693-4894-a96c-ca2bca57f6da",
   "metadata": {},
   "source": [
    "Import Libs"
   ]
  },
  {
   "cell_type": "code",
   "execution_count": 22,
   "id": "c947cded-8cca-41f6-a68d-cbeb7ef170c6",
   "metadata": {},
   "outputs": [],
   "source": [
    "import os\n",
    "import time\n",
    "import json\n",
    "import requests\n",
    "from requests.auth import HTTPBasicAuth"
   ]
  },
  {
   "cell_type": "markdown",
   "id": "a3df9768-d2a2-41c8-b149-8314d36f6ae8",
   "metadata": {},
   "source": [
    "Set up Script Variables"
   ]
  },
  {
   "cell_type": "code",
   "execution_count": 2,
   "id": "241ba756-37d6-42dd-8878-f88105e87b55",
   "metadata": {},
   "outputs": [],
   "source": [
    "artists = [\"Noah Gundersen\"]"
   ]
  },
  {
   "cell_type": "markdown",
   "id": "ae975907-f96b-43de-8fde-ddb48785950a",
   "metadata": {},
   "source": [
    "Load Environment Variables"
   ]
  },
  {
   "cell_type": "code",
   "execution_count": 3,
   "id": "a6243796-37d5-41f8-852b-d933d205d9fc",
   "metadata": {},
   "outputs": [],
   "source": [
    "listenbrainz_api_key = os.getenv(\"LISTENBRAINZ_API_KEY\")\n",
    "spotify_client_secret = os.getenv(\"SPOTIFY_CLIENT_SECRET\")\n",
    "spotify_client_id = os.getenv(\"SPOTIFY_CLIENT_ID\")\n",
    "# listenbrainz_api_key, spotify_client_secret, spotify_client_id"
   ]
  },
  {
   "cell_type": "markdown",
   "id": "81ad185c-e904-42e9-b25a-cda6634a3ba8",
   "metadata": {},
   "source": [
    "Provide useful context around request errors"
   ]
  },
  {
   "cell_type": "code",
   "execution_count": 4,
   "id": "7d72d4bf-69af-453d-8da2-09437779c105",
   "metadata": {},
   "outputs": [],
   "source": [
    "def handle_error(response):\n",
    "    try:\n",
    "        response.raise_for_status()\n",
    "    except HTTPError as error:\n",
    "        error.add_note(f\"Request: {error.request}\")\n",
    "        error.add_note(f\"Request headers: {error.request.headers}\")\n",
    "        error.add_note(f\"Request body: {error.request.body}\")\n",
    "        error.add_note(f\"Response: {error.response}\")\n",
    "        error.add_note(f\"Response headers: {error.response.headers}\")\n",
    "        error.add_note(f\"Response body: {error.response.text}\")\n",
    "        raise"
   ]
  },
  {
   "cell_type": "markdown",
   "id": "da553082-833c-4e0c-beeb-6da2e81608b7",
   "metadata": {},
   "source": [
    "Get Spotify Auth Token"
   ]
  },
  {
   "cell_type": "code",
   "execution_count": 5,
   "id": "3c37b5d1-674c-4aa0-89c3-cf80e54ccdb2",
   "metadata": {},
   "outputs": [],
   "source": [
    "spotify_auth = requests.post(\n",
    "    url=\"https://accounts.spotify.com/api/token\",\n",
    "    auth=HTTPBasicAuth(spotify_client_id, spotify_client_secret),\n",
    "    data={\"grant_type\": \"client_credentials\"}\n",
    ")\n",
    "handle_error(spotify_auth)\n",
    "\n",
    "auth_json = spotify_auth.json()\n",
    "spotify_token = auth_json['access_token']\n",
    "# spotify_token"
   ]
  },
  {
   "cell_type": "markdown",
   "id": "d07af67c-e5e7-4698-8fb7-c9321f42808a",
   "metadata": {},
   "source": [
    "Get playlist based on artists"
   ]
  },
  {
   "cell_type": "code",
   "execution_count": 6,
   "id": "19723f75-c6b0-4583-9a7b-816b75236002",
   "metadata": {},
   "outputs": [
    {
     "data": {
      "text/plain": [
       "(36,\n",
       " [{'album': 'Love Lost Freedom Found',\n",
       "   'creator': 'Gary Go feat. Audra Mae',\n",
       "   'duration': 320000,\n",
       "   'extension': {'https://musicbrainz.org/doc/jspf#track': {'artist_identifiers': ['388d0edc-7e0c-46a9-855e-436e565fa147',\n",
       "      '0fe0bb6a-adad-4554-917e-6ef251bbdafc'],\n",
       "     'release_identifier': 'https://musicbrainz.org/release/b97dd1cc-8683-48ff-b2b3-4b1933128e8e'}},\n",
       "   'identifier': ['https://musicbrainz.org/recording/ff797336-7b3a-48df-84ac-e994cd413e94'],\n",
       "   'title': 'Love Lost Freedom Found'},\n",
       "  {'album': 'I Pledge Allegiance to Myself',\n",
       "   'creator': 'Lizzie West & The White Buffalo',\n",
       "   'duration': 165000,\n",
       "   'extension': {'https://musicbrainz.org/doc/jspf#track': {'artist_identifiers': ['af84d63a-2211-4fc1-b4ec-ce0ffd4c0279',\n",
       "      'a3f36ee1-c236-49eb-b598-078c788781d8'],\n",
       "     'release_identifier': 'https://musicbrainz.org/release/1fd60e53-9352-4d2d-a448-7b7f6400b167'}},\n",
       "   'identifier': ['https://musicbrainz.org/recording/8607da44-c1b1-42c7-a13e-4efd4c777279'],\n",
       "   'title': 'I Pledge Allegiance to Myself'}])"
      ]
     },
     "execution_count": 6,
     "metadata": {},
     "output_type": "execute_result"
    }
   ],
   "source": [
    "lb_radio = requests.get(\n",
    "    url=\"https://api.listenbrainz.org/1/explore/lb-radio\",\n",
    "    params={\n",
    "        \"mode\": \"easy\",\n",
    "        \"prompt\": \" \".join([f'artist:({artist})' for artist in artists])\n",
    "    },\n",
    "    headers={\"Authorization\": f\"Bearer {listenbrainz_api_key}\"}\n",
    ")\n",
    "handle_error(lb_radio)\n",
    "\n",
    "tracks = lb_radio.json()[\"payload\"][\"jspf\"][\"playlist\"][\"track\"]\n",
    "len(tracks), tracks[:2]"
   ]
  },
  {
   "cell_type": "code",
   "execution_count": 7,
   "id": "320fab74-8710-41ed-b7ee-01a19a1ea17d",
   "metadata": {},
   "outputs": [
    {
     "data": {
      "text/plain": [
       "(['https://musicbrainz.org/recording/ff797336-7b3a-48df-84ac-e994cd413e94',\n",
       "  'https://musicbrainz.org/recording/8607da44-c1b1-42c7-a13e-4efd4c777279'],\n",
       " ['ff797336-7b3a-48df-84ac-e994cd413e94',\n",
       "  '8607da44-c1b1-42c7-a13e-4efd4c777279'])"
      ]
     },
     "execution_count": 7,
     "metadata": {},
     "output_type": "execute_result"
    }
   ],
   "source": [
    "identifiers = []\n",
    "for track in tracks:\n",
    "    if len(track['identifier']) > 1:\n",
    "        raise Exception(f'{track[\"title\"]} by {track[\"creator\"]} has multiple identifiers: {\", \".join(track[\"identifiers\"])}')\n",
    "    identifiers += track[\"identifier\"]\n",
    "mbids = [x.split(\"/\")[-1] for x in identifiers]\n",
    "identifiers[:2], mbids[:2]"
   ]
  },
  {
   "cell_type": "code",
   "execution_count": 27,
   "id": "c0bd9ccf-d7cb-4132-a107-57295b7d3f0c",
   "metadata": {},
   "outputs": [
    {
     "name": "stdout",
     "output_type": "stream",
     "text": [
      "query_string: track:Love Lost Freedom Found artist:Gary Go artist:Audra Mae\n",
      "query_string: track:I Pledge Allegiance to Myself artist:Lizzie West artist:The White Buffalo\n",
      "query_string: track:Someday Never Comes artist:Billy Valentine artist:The Forest Rangers\n",
      "query_string: track:Shine (Axmod remix) artist:Benjamin Francis Leftwich\n",
      "query_string: track:God Don’T Talk To Strangers artist:Noah Gundersen\n",
      "query_string: track:Damn, Sam artist:Ryan Adams\n",
      "query_string: track:Every Age artist:José González artist:The String Theory\n",
      "query_string: track:Forever Young artist:Audra Mae artist:The Forest Rangers\n",
      "query_string: track:Heart Attack artist:The White Buffalo\n",
      "query_string: track:Come On Back (feat. Battleme) artist:The Forest Rangers\n",
      "query_string: track:Every Time I See a Bird artist:Benjamin Francis Leftwich\n",
      "query_string: track:The Future artist:Noah Gundersen\n",
      "query_string: track:Set Two Intro artist:Ryan Adams\n",
      "query_string: track:El Invento (Dub Version) artist:José González\n",
      "query_string: track:Here I Go Again artist:Audra Mae\n",
      "query_string: track:Cursive artist:The White Buffalo\n",
      "query_string: track:Terrible Freedom artist:Noah Gundersen\n",
      "query_string: track:Stop (live in London 2) artist:Ryan Adams\n",
      "query_string: track:Cello Song artist:José González\n",
      "query_string: track:Elastic Heart artist:Vance Joy\n",
      "query_string: track:Summer Thunder artist:Roo Panes\n",
      "query_string: track:Mad Man artist:The White Buffalo\n",
      "query_string: track:Visions (Ela Minus Remix) artist:José González\n",
      "query_string: track:Vissel artist:José González artist:The String Theory\n",
      "query_string: track:I'm Alive artist:The Forest Rangers\n",
      "query_string: track:Teardrop artist:José González artist:The String Theory\n",
      "query_string: track:They Won't Bury Us Till We Die artist:Lizzie West artist:The White Buffalo\n",
      "query_string: track:God Damn That Man artist:Lizzie West artist:The White Buffalo\n"
     ]
    },
    {
     "data": {
      "text/plain": [
       "((0, 8, 31), [], ['GB5UQ1900280', 'AULI01500610'])"
      ]
     },
     "execution_count": 27,
     "metadata": {},
     "output_type": "execute_result"
    }
   ],
   "source": [
    "all_relations = []\n",
    "all_isrcs = []\n",
    "spotify_tracks = []\n",
    "rate_limit_remaining = 900  # Arbitrary > 0 number\n",
    "rate_limit_max = 1000 # Slightly larger arbitrary > 0 number\n",
    "for mbid in mbids:\n",
    "    time.sleep((rate_limit_max - rate_limit_remaining) / 1000)\n",
    "    \n",
    "    # https://musicbrainz.org/doc/MusicBrainz_API#Lookups\n",
    "    mb_recording = requests.get(\n",
    "        url=f\"https://musicbrainz.org/ws/2/recording/{mbid}\",\n",
    "        params={\"fmt\": \"json\", \"inc\": \"isrcs url-rels artists\"},\n",
    "        headers={\"User-Agent\": \"mixtapestudy.com/0.0 ( douglas@builtonbits.com )\"}\n",
    "    )\n",
    "    handle_error(mb_recording)\n",
    "    \n",
    "    recording_json = mb_recording.json()\n",
    "    rate_limit_remaining = int(mb_recording.headers[\"X-RateLimit-Remaining\"])\n",
    "    rate_limit_max = int(mb_recording.headers[\"X-RateLimit-Limit\"])\n",
    "    relations = recording_json[\"relations\"]\n",
    "    isrcs = recording_json[\"isrcs\"]\n",
    "    artist_credit = recording_json[\"artist-credit\"]\n",
    "\n",
    "    if isrcs:\n",
    "        query_string = f\"isrc:{isrcs[0]}\"\n",
    "    elif relations:\n",
    "        raise Exception(f\"Finally found a relation: {relations}, this never happened before\")\n",
    "    else:\n",
    "        query_string = f'track:{recording_json[\"title\"]}'\n",
    "        if artist_credit:\n",
    "            query_string += \" \" + \" \".join([f'artist:{artist[\"artist\"][\"name\"]}' for artist in artist_credit])\n",
    "        \n",
    "    print(f\"query_string: {query_string}\")\n",
    "    \n",
    "    # https://developer.spotify.com/documentation/web-api/reference/search\n",
    "    spotify_search = requests.get(\n",
    "        url=\"https://api.spotify.com/v1/search\",\n",
    "        params={\"type\": \"track\", \"q\": query_string},\n",
    "        headers={\"Authorization\": f\"Bearer {spotify_token}\"}\n",
    "    )\n",
    "    handle_error(spotify_search)\n",
    "\n",
    "    spotify_json = spotify_search.json()\n",
    "    # print([t[\"id\"] for t in spotify_json[\"tracks\"][\"items\"]])\n",
    "    if spotify_json[\"tracks\"] and spotify_json[\"tracks\"][\"items\"]:\n",
    "        spotify_tracks.append(spotify_json[\"tracks\"][\"items\"][0])\n",
    "    \n",
    "    all_relations += relations\n",
    "    all_isrcs += isrcs\n",
    "    \n",
    "    # break\n",
    "\n",
    "(len(all_relations), len(all_isrcs), len(spotify_tracks)), all_relations[:2], all_isrcs[:2]"
   ]
  },
  {
   "cell_type": "code",
   "execution_count": 28,
   "id": "cb667ad5-3cc9-4bf6-a21c-46bac38d2cf7",
   "metadata": {},
   "outputs": [
    {
     "data": {
      "text/plain": [
       "[('5R7B0yMEekE25qxYUkOuLA',\n",
       "  'spotify:track:5R7B0yMEekE25qxYUkOuLA',\n",
       "  'Love Lost Freedom Found',\n",
       "  ['Gary Go', 'Audra Mae']),\n",
       " ('5k6mgVoma3ylHtr4tit0s2',\n",
       "  'spotify:track:5k6mgVoma3ylHtr4tit0s2',\n",
       "  'Rope Me In And Smoke Me',\n",
       "  ['Lizzie West', 'White Buffalo']),\n",
       " ('52Xja4luAi0O9yJ1RQeaqe',\n",
       "  'spotify:track:52Xja4luAi0O9yJ1RQeaqe',\n",
       "  'Someday Never Comes',\n",
       "  ['Billy Valentine', 'The Forest Rangers']),\n",
       " ('1WpnRu9iSDDR4F7LCNhaIW',\n",
       "  'spotify:track:1WpnRu9iSDDR4F7LCNhaIW',\n",
       "  'GOD DON’T TALK TO STRANGERS',\n",
       "  ['Noah Gundersen']),\n",
       " ('07A4I35sBKxJ43iPZmWMqZ',\n",
       "  'spotify:track:07A4I35sBKxJ43iPZmWMqZ',\n",
       "  'Damn Sam (I Love a Woman That Rains)',\n",
       "  ['Ryan Adams']),\n",
       " ('79BFr9vsWHtZHLHnvhajEb',\n",
       "  'spotify:track:79BFr9vsWHtZHLHnvhajEb',\n",
       "  'Every Age - Live',\n",
       "  ['José González', 'The String Theory']),\n",
       " ('5kjxTu3UD2X5JNs7D5T1cf',\n",
       "  'spotify:track:5kjxTu3UD2X5JNs7D5T1cf',\n",
       "  'Cub - Live At Shepherd’s Bush Empire',\n",
       "  ['Roo Panes']),\n",
       " ('2yLK0rMbzADBghilbqcGH1',\n",
       "  'spotify:track:2yLK0rMbzADBghilbqcGH1',\n",
       "  'Forever Young - From \"Sons of Anarchy\"',\n",
       "  ['Audra Mae', 'The Forest Rangers']),\n",
       " ('0H5WjKvm7mCjlUruINU39U',\n",
       "  'spotify:track:0H5WjKvm7mCjlUruINU39U',\n",
       "  'Heart Attack',\n",
       "  ['The White Buffalo']),\n",
       " ('77X1XxY139uKUnuniawwcr',\n",
       "  'spotify:track:77X1XxY139uKUnuniawwcr',\n",
       "  'Come On Back (feat. Battleme)',\n",
       "  ['The Forest Rangers', 'Battleme']),\n",
       " ('6xlkZG6t1mIPatl0ltitzH',\n",
       "  'spotify:track:6xlkZG6t1mIPatl0ltitzH',\n",
       "  'Every Time I See A Bird',\n",
       "  ['Benjamin Francis Leftwich']),\n",
       " ('5uYFDPNwbRVCDwkIrPNEAs',\n",
       "  'spotify:track:5uYFDPNwbRVCDwkIrPNEAs',\n",
       "  'The Future',\n",
       "  ['Noah Gundersen']),\n",
       " ('2Eabb5TLP5KdptvfVLGKAw',\n",
       "  'spotify:track:2Eabb5TLP5KdptvfVLGKAw',\n",
       "  'El Invento - Dub Version',\n",
       "  ['José González']),\n",
       " ('2YCb4vkcDCjeHExT1wIkkI',\n",
       "  'spotify:track:2YCb4vkcDCjeHExT1wIkkI',\n",
       "  'Wasted Time - Live from Philadelphia',\n",
       "  ['Vance Joy']),\n",
       " ('4ubmrrz5sKjNXLF7CtLelo',\n",
       "  'spotify:track:4ubmrrz5sKjNXLF7CtLelo',\n",
       "  'Little Giant - Live At Shepherd’s Bush Empire',\n",
       "  ['Roo Panes']),\n",
       " ('6F972mZBzYDsU3CWA0dEOh',\n",
       "  'spotify:track:6F972mZBzYDsU3CWA0dEOh',\n",
       "  'Here I Go Again',\n",
       "  ['Audra Mae']),\n",
       " ('4obbA3y0jnWqIXV8Z6Tg4C',\n",
       "  'spotify:track:4obbA3y0jnWqIXV8Z6Tg4C',\n",
       "  'Cursive (Live)',\n",
       "  ['The White Buffalo']),\n",
       " ('38tpQmzCJ1jJMd8I365Sau',\n",
       "  'spotify:track:38tpQmzCJ1jJMd8I365Sau',\n",
       "  'Everyday People (feat. Audra Mae, Billy Valentine, Katey Sagal, Curtis Stigers & Franky Perez) - from Sons of Anarchy',\n",
       "  ['The Forest Rangers',\n",
       "   'Audra Mae',\n",
       "   'Billy Valentine',\n",
       "   'Katey Sagal',\n",
       "   'Curtis Stigers',\n",
       "   'Franky Perez']),\n",
       " ('4mv0ES3eeIDucgcIOPbb69',\n",
       "  'spotify:track:4mv0ES3eeIDucgcIOPbb69',\n",
       "  'Ticket To Ride',\n",
       "  ['Benjamin Francis Leftwich']),\n",
       " ('6WgH74bXZ5dHbu3ALbGSfL',\n",
       "  'spotify:track:6WgH74bXZ5dHbu3ALbGSfL',\n",
       "  'Terrible Freedom',\n",
       "  ['Noah Gundersen']),\n",
       " ('3sdUmlPU9JPCkF5B9pYWAU',\n",
       "  'spotify:track:3sdUmlPU9JPCkF5B9pYWAU',\n",
       "  'Stop (Live in London 2)',\n",
       "  ['Ryan Adams']),\n",
       " ('5I78RAjUprUGn92IlCUVaQ',\n",
       "  'spotify:track:5I78RAjUprUGn92IlCUVaQ',\n",
       "  'Cello Song',\n",
       "  ['The Books', 'José González']),\n",
       " ('3V51cS1MFvxHmAZgoEz4yb',\n",
       "  'spotify:track:3V51cS1MFvxHmAZgoEz4yb',\n",
       "  'Elastic Heart - triple j Like A Version',\n",
       "  ['Vance Joy']),\n",
       " ('5k7AllBKir9RcoRhd3x4q8',\n",
       "  'spotify:track:5k7AllBKir9RcoRhd3x4q8',\n",
       "  'Summer Thunder',\n",
       "  ['Roo Panes']),\n",
       " ('15oXQbgrlWf9vOV1OBwJwx',\n",
       "  'spotify:track:15oXQbgrlWf9vOV1OBwJwx',\n",
       "  'For a Dancer - from Sons of Anarchy',\n",
       "  ['Katey Sagal', 'The Forest Rangers']),\n",
       " ('3C8FHyizNYEgEK3WroYnwu',\n",
       "  'spotify:track:3C8FHyizNYEgEK3WroYnwu',\n",
       "  'Visions - Ela Minus Remix',\n",
       "  ['José González', 'Ela Minus']),\n",
       " ('30JAUKB33yxSL5zai8M58M',\n",
       "  'spotify:track:30JAUKB33yxSL5zai8M58M',\n",
       "  'Vissel - Live',\n",
       "  ['José González', 'The String Theory']),\n",
       " ('3BObrHZumMgvKB0TqegBm7',\n",
       "  'spotify:track:3BObrHZumMgvKB0TqegBm7',\n",
       "  \"I'm Alive\",\n",
       "  ['The Forest Rangers']),\n",
       " ('74E8JcG9XbuwwqqfqXL42u',\n",
       "  'spotify:track:74E8JcG9XbuwwqqfqXL42u',\n",
       "  'Teardrop - Live',\n",
       "  ['José González', 'The String Theory']),\n",
       " ('4skpqvVlMdt9CG77VWOOnY',\n",
       "  'spotify:track:4skpqvVlMdt9CG77VWOOnY',\n",
       "  \"They Won't Bury Us Till We Die\",\n",
       "  ['Lizzie West', 'White Buffalo']),\n",
       " ('5Uxv0oNMdkQZ8DxBv56Zbv',\n",
       "  'spotify:track:5Uxv0oNMdkQZ8DxBv56Zbv',\n",
       "  'God Damn That Man',\n",
       "  ['Lizzie West', 'White Buffalo'])]"
      ]
     },
     "execution_count": 28,
     "metadata": {},
     "output_type": "execute_result"
    }
   ],
   "source": [
    "[\n",
    "    (st[\"id\"], st[\"uri\"], st[\"name\"], \n",
    "    [a[\"name\"] for a in st[\"artists\"]])\n",
    "    for st in spotify_tracks\n",
    "]"
   ]
  },
  {
   "cell_type": "code",
   "execution_count": null,
   "id": "8f71082e-5dc9-44fd-8d16-97e6a15c1c20",
   "metadata": {},
   "outputs": [],
   "source": []
  }
 ],
 "metadata": {
  "kernelspec": {
   "display_name": "Python 3 (ipykernel)",
   "language": "python",
   "name": "python3"
  },
  "language_info": {
   "codemirror_mode": {
    "name": "ipython",
    "version": 3
   },
   "file_extension": ".py",
   "mimetype": "text/x-python",
   "name": "python",
   "nbconvert_exporter": "python",
   "pygments_lexer": "ipython3",
   "version": "3.11.9"
  }
 },
 "nbformat": 4,
 "nbformat_minor": 5
}
