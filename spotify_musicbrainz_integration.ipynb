{
 "cells": [
  {
   "cell_type": "markdown",
   "id": "09f0c5c4-a8e1-4984-8ce3-dc0e58d3bf6c",
   "metadata": {},
   "source": [
    "This file explores the integration between listenbrainz, musicbrainz, and spotify.\n",
    "\n",
    "It's separate from the application logic because the approach requires exploration to optimize and understand.\n",
    "There's a lot more edge cases integratiing multiple edge cases than I had to contend with in using only Spotify.\n",
    "\n",
    "Below, I sort out those edge cases, explore likelihood of error cases, so I can encode these states in tests."
   ]
  },
  {
   "cell_type": "markdown",
   "id": "23645081-4693-4894-a96c-ca2bca57f6da",
   "metadata": {},
   "source": [
    "Import Libs"
   ]
  },
  {
   "cell_type": "code",
   "execution_count": 1,
   "id": "c947cded-8cca-41f6-a68d-cbeb7ef170c6",
   "metadata": {},
   "outputs": [],
   "source": [
    "import os\n",
    "import time\n",
    "import json\n",
    "import requests\n",
    "from requests import HTTPError\n",
    "from requests.auth import HTTPBasicAuth"
   ]
  },
  {
   "cell_type": "markdown",
   "id": "a3df9768-d2a2-41c8-b149-8314d36f6ae8",
   "metadata": {},
   "source": [
    "Set up Script Variables"
   ]
  },
  {
   "cell_type": "code",
   "execution_count": 2,
   "id": "241ba756-37d6-42dd-8878-f88105e87b55",
   "metadata": {},
   "outputs": [],
   "source": [
    "artists = [\"Noah Gundersen\", \"Julien Baker\", \"Phoebe Bridgers\"]"
   ]
  },
  {
   "cell_type": "markdown",
   "id": "ae975907-f96b-43de-8fde-ddb48785950a",
   "metadata": {},
   "source": [
    "Load Environment Variables"
   ]
  },
  {
   "cell_type": "code",
   "execution_count": 3,
   "id": "a6243796-37d5-41f8-852b-d933d205d9fc",
   "metadata": {},
   "outputs": [],
   "source": [
    "listenbrainz_api_key = os.getenv(\"LISTENBRAINZ_API_KEY\")\n",
    "spotify_client_secret = os.getenv(\"SPOTIFY_CLIENT_SECRET\")\n",
    "spotify_client_id = os.getenv(\"SPOTIFY_CLIENT_ID\")\n",
    "# listenbrainz_api_key, spotify_client_secret, spotify_client_id"
   ]
  },
  {
   "cell_type": "markdown",
   "id": "81ad185c-e904-42e9-b25a-cda6634a3ba8",
   "metadata": {},
   "source": [
    "Provide useful context around request errors"
   ]
  },
  {
   "cell_type": "code",
   "execution_count": 4,
   "id": "7d72d4bf-69af-453d-8da2-09437779c105",
   "metadata": {},
   "outputs": [],
   "source": [
    "def handle_error(response):\n",
    "    try:\n",
    "        response.raise_for_status()\n",
    "    except HTTPError as error:\n",
    "        error.add_note(f\"Request: {error.request}\")\n",
    "        error.add_note(f\"Request headers: {error.request.headers}\")\n",
    "        error.add_note(f\"Request body: {error.request.body}\")\n",
    "        error.add_note(f\"Response: {error.response}\")\n",
    "        error.add_note(f\"Response headers: {error.response.headers}\")\n",
    "        error.add_note(f\"Response body: {error.response.text}\")\n",
    "        raise"
   ]
  },
  {
   "cell_type": "markdown",
   "id": "da553082-833c-4e0c-beeb-6da2e81608b7",
   "metadata": {},
   "source": [
    "Get Spotify Auth Token"
   ]
  },
  {
   "cell_type": "code",
   "execution_count": 5,
   "id": "3c37b5d1-674c-4aa0-89c3-cf80e54ccdb2",
   "metadata": {},
   "outputs": [],
   "source": [
    "spotify_auth = requests.post(\n",
    "    url=\"https://accounts.spotify.com/api/token\",\n",
    "    auth=HTTPBasicAuth(spotify_client_id, spotify_client_secret),\n",
    "    data={\"grant_type\": \"client_credentials\"}\n",
    ")\n",
    "handle_error(spotify_auth)\n",
    "\n",
    "auth_json = spotify_auth.json()\n",
    "spotify_token = auth_json['access_token']\n",
    "# spotify_token"
   ]
  },
  {
   "cell_type": "markdown",
   "id": "d07af67c-e5e7-4698-8fb7-c9321f42808a",
   "metadata": {},
   "source": [
    "Get playlist based on artists"
   ]
  },
  {
   "cell_type": "code",
   "execution_count": 6,
   "id": "19723f75-c6b0-4583-9a7b-816b75236002",
   "metadata": {},
   "outputs": [
    {
     "data": {
      "text/plain": [
       "(50,\n",
       " [{'album': 'Songs of Anarchy: Volume 4',\n",
       "   'creator': 'Katey Sagal & The Forest Rangers',\n",
       "   'duration': 328000,\n",
       "   'extension': {'https://musicbrainz.org/doc/jspf#track': {'artist_identifiers': ['971e2203-5f5c-4ac1-a3e2-210413391d09',\n",
       "      'a77e45f9-7f01-4577-9c1b-f2045d15aa74'],\n",
       "     'release_identifier': 'https://musicbrainz.org/release/8a837ab6-c1b1-4ae9-a614-51fa4da5e3a1'}},\n",
       "   'identifier': ['https://musicbrainz.org/recording/8cd815da-144c-42d0-b56c-56296f09abf0'],\n",
       "   'title': 'Greensleeves'},\n",
       "  {'album': 'the rest',\n",
       "   'creator': 'boygenius',\n",
       "   'duration': 254981,\n",
       "   'extension': {'https://musicbrainz.org/doc/jspf#track': {'artist_identifiers': ['3ceeddbd-fba5-4bdb-99f7-2d028ed5afda'],\n",
       "     'release_identifier': 'https://musicbrainz.org/release/a1e4415e-9691-400b-9199-46cb1048737a'}},\n",
       "   'identifier': ['https://musicbrainz.org/recording/0eaec872-253d-4e0d-ab0d-6efb21b0c29a'],\n",
       "   'title': 'Powers'}])"
      ]
     },
     "execution_count": 6,
     "metadata": {},
     "output_type": "execute_result"
    }
   ],
   "source": [
    "lb_radio = requests.get(\n",
    "    url=\"https://api.listenbrainz.org/1/explore/lb-radio\",\n",
    "    params={\n",
    "        \"mode\": \"easy\",\n",
    "        \"prompt\": \" \".join([f'artist:({artist})' for artist in artists])\n",
    "    },\n",
    "    headers={\"Authorization\": f\"Bearer {listenbrainz_api_key}\"}\n",
    ")\n",
    "handle_error(lb_radio)\n",
    "\n",
    "tracks = lb_radio.json()[\"payload\"][\"jspf\"][\"playlist\"][\"track\"]\n",
    "len(tracks), tracks[:2]"
   ]
  },
  {
   "cell_type": "code",
   "execution_count": 7,
   "id": "320fab74-8710-41ed-b7ee-01a19a1ea17d",
   "metadata": {},
   "outputs": [
    {
     "data": {
      "text/plain": [
       "(['https://musicbrainz.org/recording/8cd815da-144c-42d0-b56c-56296f09abf0',\n",
       "  'https://musicbrainz.org/recording/0eaec872-253d-4e0d-ab0d-6efb21b0c29a'],\n",
       " ['8cd815da-144c-42d0-b56c-56296f09abf0',\n",
       "  '0eaec872-253d-4e0d-ab0d-6efb21b0c29a'])"
      ]
     },
     "execution_count": 7,
     "metadata": {},
     "output_type": "execute_result"
    }
   ],
   "source": [
    "identifiers = []\n",
    "for track in tracks:\n",
    "    if len(track['identifier']) > 1:\n",
    "        raise Exception(f'{track[\"title\"]} by {track[\"creator\"]} has multiple identifiers: {\", \".join(track[\"identifiers\"])}')\n",
    "    identifiers += track[\"identifier\"]\n",
    "mbids = [x.split(\"/\")[-1] for x in identifiers]\n",
    "identifiers[:2], mbids[:2]"
   ]
  },
  {
   "cell_type": "code",
   "execution_count": 8,
   "id": "c0bd9ccf-d7cb-4132-a107-57295b7d3f0c",
   "metadata": {},
   "outputs": [
    {
     "name": "stdout",
     "output_type": "stream",
     "text": [
      "query_string: isrc:USQX91402218\n",
      "query_string: isrc:USUG12306653\n",
      "query_string: isrc:US64G1210033\n",
      "query_string: isrc:GBK3W2302748\n",
      "query_string: track:memories artist:Soccer Mommy\n",
      "query_string: isrc:USCJY1831956\n",
      "query_string: track:Tomorrow (live) artist:Daughter\n",
      "query_string: track:The Song That Changed Everything artist:Mac Miller artist:SZA\n",
      "query_string: isrc:GBCEJ2100217\n",
      "query_string: isrc:USMTD2200424\n",
      "query_string: track:Day 5 artist:Japanese Breakfast\n",
      "query_string: track:Carolina Rain (live in Porto) artist:Ryan Adams\n",
      "query_string: track:\"A really thick Scottish accent\" artist:Julien Baker\n",
      "query_string: isrc:USJ5G2130701\n",
      "query_string: isrc:USHM81309671\n",
      "query_string: track:Pray to God (Calvin Harris vs Mike Pickering Hacienda remix) artist:Calvin Harris artist:HAIM\n",
      "query_string: track:Wading in Waist-high Water (Robin pitched stem) artist:Fleet Foxes\n",
      "query_string: track:song 2 my journal artist:Clairo\n",
      "query_string: track:Send Someone Away (radio) artist:Embee artist:José González\n",
      "query_string: track:Stay Down (June 5, 2018 demo) artist:boygenius\n",
      "query_string: isrc:US64G2013721\n",
      "query_string: isrc:USC4R2003340\n",
      "query_string: isrc:USCJY1531539\n",
      "query_string: isrc:USRC12303084\n",
      "query_string: track:22 (OVER S88N) artist:Bon Iver\n",
      "query_string: track:Get Lucky (live at the BBC) artist:Daughter\n",
      "query_string: track:Day 7 artist:Japanese Breakfast\n",
      "query_string: isrc:GB5UQ1800236\n",
      "query_string: isrc:USMTD1912575\n",
      "query_string: isrc:USJ5G2120002\n",
      "query_string: track:Don't Save Me (live) artist:HAIM\n",
      "query_string: track:Edith artist:Clairo\n",
      "query_string: track:As the Clouds Began to Part artist:Bear’s Den artist:Paul Frith\n",
      "query_string: track:Favor (Jesu Remix) artist:Julien Baker\n",
      "query_string: track:Don’t Tell Anyone artist:Sufjan Stevens\n",
      "query_string: track:Have Yourself a Mitsuki Little Christmas artist:Mitski\n",
      "query_string: track:Taylor Swift: The Complete Eras Megamix artist:Joseph James artist:Taylor Swift\n",
      "query_string: track:Sunblind (drums stem) artist:Fleet Foxes\n",
      "query_string: track:Jara (Meara stem) artist:Fleet Foxes\n",
      "query_string: isrc:USRC12400472\n",
      "query_string: track:Gonna Take a Miracle artist:Katey Sagal\n",
      "query_string: isrc:USUG12306651\n",
      "query_string: track:Monster artist:JAY‐Z artist:Rick Ross artist:Ye artist:Nicki Minaj artist:Bon Iver\n",
      "query_string: track:Death by Chocolate artist:Soccer Mommy\n",
      "query_string: track:Day 23 artist:Japanese Breakfast\n",
      "query_string: track:Slipping Through My Fingers artist:Benjamin Francis Leftwich\n",
      "query_string: track:Shallows (live) artist:Daughter\n",
      "query_string: track:I Know The End (Live) artist:Phoebe Bridgers\n",
      "query_string: isrc:GBUM71903560\n",
      "query_string: track:Some Nights artist:Noah Gundersen\n"
     ]
    },
    {
     "data": {
      "text/plain": [
       "((0, 19, 28), [], ['USQX91402218', 'USUG12306653'])"
      ]
     },
     "execution_count": 8,
     "metadata": {},
     "output_type": "execute_result"
    }
   ],
   "source": [
    "all_relations = []\n",
    "all_isrcs = []\n",
    "spotify_tracks = []\n",
    "rate_limit_remaining = 900  # Arbitrary > 0 number\n",
    "rate_limit_max = 1000 # Slightly larger arbitrary > 0 number\n",
    "for mbid in mbids:\n",
    "    time.sleep((rate_limit_max - rate_limit_remaining) / 1000)\n",
    "    \n",
    "    # https://musicbrainz.org/doc/MusicBrainz_API#Lookups\n",
    "    mb_recording = requests.get(\n",
    "        url=f\"https://musicbrainz.org/ws/2/recording/{mbid}\",\n",
    "        params={\"fmt\": \"json\", \"inc\": \"isrcs url-rels artists\"},\n",
    "        headers={\"User-Agent\": \"mixtapestudy.com/0.0 ( douglas@builtonbits.com )\"}\n",
    "    )\n",
    "    handle_error(mb_recording)\n",
    "    \n",
    "    recording_json = mb_recording.json()\n",
    "    rate_limit_remaining = int(mb_recording.headers[\"X-RateLimit-Remaining\"])\n",
    "    rate_limit_max = int(mb_recording.headers[\"X-RateLimit-Limit\"])\n",
    "    relations = recording_json[\"relations\"]\n",
    "    isrcs = recording_json[\"isrcs\"]\n",
    "    artist_credit = recording_json[\"artist-credit\"]\n",
    "\n",
    "    if isrcs:\n",
    "        query_string = f\"isrc:{isrcs[0]}\"\n",
    "    elif relations:\n",
    "        raise Exception(f\"Finally found a relation: {relations}, this never happened before\")\n",
    "    else:\n",
    "        query_string = f'track:{recording_json[\"title\"]}'\n",
    "        if artist_credit:\n",
    "            query_string += \" \" + \" \".join([f'artist:{artist[\"artist\"][\"name\"]}' for artist in artist_credit])\n",
    "        \n",
    "    print(f\"query_string: {query_string}\")\n",
    "    \n",
    "    # https://developer.spotify.com/documentation/web-api/reference/search\n",
    "    spotify_search = requests.get(\n",
    "        url=\"https://api.spotify.com/v1/search\",\n",
    "        params={\"type\": \"track\", \"q\": query_string},\n",
    "        headers={\"Authorization\": f\"Bearer {spotify_token}\"}\n",
    "    )\n",
    "    handle_error(spotify_search)\n",
    "\n",
    "    spotify_json = spotify_search.json()\n",
    "    # print([t[\"id\"] for t in spotify_json[\"tracks\"][\"items\"]])\n",
    "    if spotify_json[\"tracks\"] and spotify_json[\"tracks\"][\"items\"]:\n",
    "        spotify_tracks.append(spotify_json[\"tracks\"][\"items\"][0])\n",
    "    \n",
    "    all_relations += relations\n",
    "    all_isrcs += isrcs\n",
    "    \n",
    "    # break\n",
    "\n",
    "(len(all_relations), len(all_isrcs), len(spotify_tracks)), all_relations[:2], all_isrcs[:2]"
   ]
  },
  {
   "cell_type": "code",
   "execution_count": 9,
   "id": "cb667ad5-3cc9-4bf6-a21c-46bac38d2cf7",
   "metadata": {},
   "outputs": [
    {
     "data": {
      "text/plain": [
       "[('6FGbv2o2tZslzkYXWi2268',\n",
       "  'spotify:track:6FGbv2o2tZslzkYXWi2268',\n",
       "  'Greensleeves - From Sons of Anarchy',\n",
       "  ['Katey Sagal', 'The Forest Rangers']),\n",
       " ('4GgkYUOZareQyCK6ohJj7v',\n",
       "  'spotify:track:4GgkYUOZareQyCK6ohJj7v',\n",
       "  'Powers',\n",
       "  ['boygenius']),\n",
       " ('6h06Uuqs2ANAhijKhZUMUq',\n",
       "  'spotify:track:6h06Uuqs2ANAhijKhZUMUq',\n",
       "  'Do You Hear What I Hear?',\n",
       "  ['Sufjan Stevens']),\n",
       " ('5divLEEbAisvkOPrp4Vnpb',\n",
       "  'spotify:track:5divLEEbAisvkOPrp4Vnpb',\n",
       "  'Break In The Weather',\n",
       "  ['Benjamin Francis Leftwich']),\n",
       " ('5ckUacHVEsmgJI7akKHadD',\n",
       "  'spotify:track:5ckUacHVEsmgJI7akKHadD',\n",
       "  'Out Of The Woods - Commentary',\n",
       "  ['Taylor Swift']),\n",
       " ('2RDGPOGcOY8vXRjqbmbYM5',\n",
       "  'spotify:track:2RDGPOGcOY8vXRjqbmbYM5',\n",
       "  'Tomorrow (Live)',\n",
       "  ['Daughter']),\n",
       " ('5ChhBJdogYlf0mrGmJGsk5',\n",
       "  'spotify:track:5ChhBJdogYlf0mrGmJGsk5',\n",
       "  'Magic Trick',\n",
       "  ['Noah Gundersen']),\n",
       " ('5mtW8Fo5sjFQY6nA10mDIy',\n",
       "  'spotify:track:5mtW8Fo5sjFQY6nA10mDIy',\n",
       "  'Believe - Spotify Singles',\n",
       "  ['Lucy Dacus']),\n",
       " ('0IziocrutMdtLHorPTaDyh',\n",
       "  'spotify:track:0IziocrutMdtLHorPTaDyh',\n",
       "  'Carolina Rain (Live in Porto)',\n",
       "  ['Ryan Adams']),\n",
       " ('1X6UrEZ5D80IF7FaKqiyOt',\n",
       "  'spotify:track:1X6UrEZ5D80IF7FaKqiyOt',\n",
       "  'Haligh, Haligh, A Lie, Haligh - Companion Version',\n",
       "  ['Bright Eyes']),\n",
       " ('4owbJfCN73rJQAgQ7HMBBH',\n",
       "  'spotify:track:4owbJfCN73rJQAgQ7HMBBH',\n",
       "  'Pray to God (feat. HAIM) - Calvin Harris vs Mike Pickering Hacienda Remix',\n",
       "  ['Calvin Harris', 'HAIM', 'Mike Pickering']),\n",
       " ('5jUGfvWavo6lJjdnqsPTTV',\n",
       "  'spotify:track:5jUGfvWavo6lJjdnqsPTTV',\n",
       "  'Send Someone Away - Radio',\n",
       "  ['Embee', 'José González']),\n",
       " ('1QCZTgykaKBjmwcSBhMUe5',\n",
       "  'spotify:track:1QCZTgykaKBjmwcSBhMUe5',\n",
       "  'The Lydian Ring',\n",
       "  ['Sufjan Stevens', 'Lowell Brams']),\n",
       " ('7bbhFp3V4bZct8vpSCIrR8',\n",
       "  'spotify:track:7bbhFp3V4bZct8vpSCIrR8',\n",
       "  'This Love - Karaoke Version',\n",
       "  ['Taylor Swift']),\n",
       " ('7kRpx0yKyXoC2Gstg6yTad',\n",
       "  'spotify:track:7kRpx0yKyXoC2Gstg6yTad',\n",
       "  'Peace Be With You',\n",
       "  ['Roo Panes']),\n",
       " ('4mOjvafN3FbHFmXH5QaXv5',\n",
       "  'spotify:track:4mOjvafN3FbHFmXH5QaXv5',\n",
       "  'Last Christmas',\n",
       "  ['Lucy Dacus']),\n",
       " ('6ffBPEAQc8Iew360bhKIHm',\n",
       "  'spotify:track:6ffBPEAQc8Iew360bhKIHm',\n",
       "  'Kyoto (Bartees Strange Remix)',\n",
       "  ['Phoebe Bridgers', 'Bartees Strange']),\n",
       " ('0XBxrXIa4c1am44uwIQUxB',\n",
       "  'spotify:track:0XBxrXIa4c1am44uwIQUxB',\n",
       "  'As the Clouds Began to Part',\n",
       "  [\"Bear's Den\", 'Paul Frith']),\n",
       " ('3NIAbXrcq9nLj7GL7mILtk',\n",
       "  'spotify:track:3NIAbXrcq9nLj7GL7mILtk',\n",
       "  'Favor - Jesu Remix',\n",
       "  ['Julien Baker', 'Jesu']),\n",
       " ('0sRLrnu82NLgnsdxb6uMYi',\n",
       "  'spotify:track:0sRLrnu82NLgnsdxb6uMYi',\n",
       "  'Saturn - Acapella',\n",
       "  ['SZA']),\n",
       " ('2Ku3GD0v1t1SlClCSyBRbB',\n",
       "  'spotify:track:2Ku3GD0v1t1SlClCSyBRbB',\n",
       "  'Gonna Take A Miracle',\n",
       "  ['Katey Sagal']),\n",
       " ('0SK4eSlC1oyOkY7jG7EmmG',\n",
       "  'spotify:track:0SK4eSlC1oyOkY7jG7EmmG',\n",
       "  'Afraid of Heights',\n",
       "  ['boygenius']),\n",
       " ('1ZHYJ2Wwgxes4m8Ba88PeK',\n",
       "  'spotify:track:1ZHYJ2Wwgxes4m8Ba88PeK',\n",
       "  'Monster',\n",
       "  ['Kanye West', 'JAY-Z', 'Rick Ross', 'Nicki Minaj', 'Bon Iver']),\n",
       " ('3FHbznvQHsoZn75d0UMTP9',\n",
       "  'spotify:track:3FHbznvQHsoZn75d0UMTP9',\n",
       "  'Death by Chocolate',\n",
       "  ['Soccer Mommy']),\n",
       " ('7x2R0ZmnVo3E5bmiMsivOx',\n",
       "  'spotify:track:7x2R0ZmnVo3E5bmiMsivOx',\n",
       "  'Slipping Through My Fingers',\n",
       "  ['Benjamin Francis Leftwich']),\n",
       " ('10eLM3Le5KfhygcGQ3TnyK',\n",
       "  'spotify:track:10eLM3Le5KfhygcGQ3TnyK',\n",
       "  'Shallows (Live)',\n",
       "  ['Daughter']),\n",
       " ('7G9W763iYC33Eg5oaJrcu9',\n",
       "  'spotify:track:7G9W763iYC33Eg5oaJrcu9',\n",
       "  'Summer Girl - Video Version',\n",
       "  ['HAIM']),\n",
       " ('62ZxHZ1PRSK3o3dRsWr4F7',\n",
       "  'spotify:track:62ZxHZ1PRSK3o3dRsWr4F7',\n",
       "  'SOME NIGHTS',\n",
       "  ['Noah Gundersen'])]"
      ]
     },
     "execution_count": 9,
     "metadata": {},
     "output_type": "execute_result"
    }
   ],
   "source": [
    "[\n",
    "    (st[\"id\"], st[\"uri\"], st[\"name\"], \n",
    "    [a[\"name\"] for a in st[\"artists\"]])\n",
    "    for st in spotify_tracks\n",
    "]"
   ]
  },
  {
   "cell_type": "code",
   "execution_count": null,
   "id": "8f71082e-5dc9-44fd-8d16-97e6a15c1c20",
   "metadata": {},
   "outputs": [],
   "source": []
  }
 ],
 "metadata": {
  "kernelspec": {
   "display_name": "Python 3 (ipykernel)",
   "language": "python",
   "name": "python3"
  },
  "language_info": {
   "codemirror_mode": {
    "name": "ipython",
    "version": 3
   },
   "file_extension": ".py",
   "mimetype": "text/x-python",
   "name": "python",
   "nbconvert_exporter": "python",
   "pygments_lexer": "ipython3",
   "version": "3.11.9"
  }
 },
 "nbformat": 4,
 "nbformat_minor": 5
}
